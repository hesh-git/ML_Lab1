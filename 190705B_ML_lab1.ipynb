{
  "cells": [
    {
      "cell_type": "markdown",
      "metadata": {},
      "source": [
        "# ML LAB_1 Feature Enginerring"
      ]
    },
    {
      "cell_type": "markdown",
      "metadata": {},
      "source": [
        "Import required libraries"
      ]
    },
    {
      "cell_type": "code",
      "execution_count": 1,
      "metadata": {
        "id": "WqIM4JDB_fgz"
      },
      "outputs": [],
      "source": [
        "import pandas as pd\n",
        "from sklearn.metrics import accuracy_score\n",
        "from sklearn.feature_selection import SelectKBest, f_classif\n",
        "from sklearn.metrics import mean_squared_error\n",
        "from sklearn.preprocessing import StandardScaler\n",
        "from sklearn.svm import SVC\n",
        "from sklearn.linear_model import LinearRegression\n",
        "from sklearn.metrics import accuracy_score"
      ]
    },
    {
      "cell_type": "markdown",
      "metadata": {},
      "source": [
        "Load data from csv files"
      ]
    },
    {
      "cell_type": "code",
      "execution_count": 2,
      "metadata": {
        "id": "2lV07tVS_vJo"
      },
      "outputs": [],
      "source": [
        "\n",
        "train_df = pd.read_csv(\"ML/train.csv\")\n",
        "valid_df= pd.read_csv(\"ML/valid.csv\")\n",
        "test_df = pd.read_csv(\"ML/test.csv\")"
      ]
    },
    {
      "cell_type": "markdown",
      "metadata": {},
      "source": [
        "Create a dictionary to store values related to each label"
      ]
    },
    {
      "cell_type": "code",
      "execution_count": 3,
      "metadata": {
        "id": "_g3lZcHTjzre"
      },
      "outputs": [],
      "source": [
        "labels = ['label_1', 'label_2', 'label_3', 'label_4']\n",
        "X_train = {}\n",
        "X_valid = {}\n",
        "y_train = {}\n",
        "y_valid = {}\n",
        "X_test = {}"
      ]
    },
    {
      "cell_type": "markdown",
      "metadata": {
        "id": "abA2VWiqoIN7"
      },
      "source": [
        "Seperating feature data for each label"
      ]
    },
    {
      "cell_type": "code",
      "execution_count": 4,
      "metadata": {
        "id": "bCIMkCA68D9H"
      },
      "outputs": [],
      "source": [
        "for label in labels:\n",
        "    scaler = StandardScaler()\n",
        "    tr_df = train_df\n",
        "    val_df = valid_df\n",
        "    tst_df = test_df\n",
        "    if label == 'label_2': # Remove NaN rows for label_2\n",
        "      tr_df = train_df[train_df[label].notna()]\n",
        "      val_df = valid_df[valid_df[label].notna()]\n",
        "\n",
        "    X_train[label] = pd.DataFrame(scaler.fit_transform(tr_df.iloc[:, :-4]))\n",
        "    X_valid[label] = pd.DataFrame(scaler.transform(val_df.iloc[:, :-4]))\n",
        "    X_test[label] = pd.DataFrame(scaler.transform(tst_df.iloc[:, :-4]))\n",
        "\n",
        "    y_train[label] = tr_df[label]\n",
        "    y_valid[label] = val_df[label]"
      ]
    },
    {
      "cell_type": "code",
      "execution_count": 5,
      "metadata": {
        "colab": {
          "base_uri": "https://localhost:8080/",
          "height": 443
        },
        "id": "uDRS_Cx6kolh",
        "outputId": "865172b4-61b9-49d8-d05f-b50328d9d158"
      },
      "outputs": [
        {
          "data": {
            "text/html": [
              "<div>\n",
              "<style scoped>\n",
              "    .dataframe tbody tr th:only-of-type {\n",
              "        vertical-align: middle;\n",
              "    }\n",
              "\n",
              "    .dataframe tbody tr th {\n",
              "        vertical-align: top;\n",
              "    }\n",
              "\n",
              "    .dataframe thead th {\n",
              "        text-align: right;\n",
              "    }\n",
              "</style>\n",
              "<table border=\"1\" class=\"dataframe\">\n",
              "  <thead>\n",
              "    <tr style=\"text-align: right;\">\n",
              "      <th></th>\n",
              "      <th>0</th>\n",
              "      <th>1</th>\n",
              "      <th>2</th>\n",
              "      <th>3</th>\n",
              "      <th>4</th>\n",
              "      <th>5</th>\n",
              "      <th>6</th>\n",
              "      <th>7</th>\n",
              "      <th>8</th>\n",
              "      <th>9</th>\n",
              "      <th>...</th>\n",
              "      <th>246</th>\n",
              "      <th>247</th>\n",
              "      <th>248</th>\n",
              "      <th>249</th>\n",
              "      <th>250</th>\n",
              "      <th>251</th>\n",
              "      <th>252</th>\n",
              "      <th>253</th>\n",
              "      <th>254</th>\n",
              "      <th>255</th>\n",
              "    </tr>\n",
              "  </thead>\n",
              "  <tbody>\n",
              "    <tr>\n",
              "      <th>0</th>\n",
              "      <td>-1.719486</td>\n",
              "      <td>0.323086</td>\n",
              "      <td>1.226266</td>\n",
              "      <td>1.388683</td>\n",
              "      <td>0.664613</td>\n",
              "      <td>-0.308695</td>\n",
              "      <td>-0.812392</td>\n",
              "      <td>-0.655816</td>\n",
              "      <td>0.179515</td>\n",
              "      <td>0.140254</td>\n",
              "      <td>...</td>\n",
              "      <td>2.113138</td>\n",
              "      <td>1.527554</td>\n",
              "      <td>-0.982967</td>\n",
              "      <td>0.855748</td>\n",
              "      <td>-0.670494</td>\n",
              "      <td>-1.234800</td>\n",
              "      <td>-1.324892</td>\n",
              "      <td>-0.017108</td>\n",
              "      <td>-1.003996</td>\n",
              "      <td>0.938640</td>\n",
              "    </tr>\n",
              "    <tr>\n",
              "      <th>1</th>\n",
              "      <td>-1.497857</td>\n",
              "      <td>-0.390408</td>\n",
              "      <td>1.087442</td>\n",
              "      <td>3.184804</td>\n",
              "      <td>-0.932385</td>\n",
              "      <td>2.113584</td>\n",
              "      <td>0.386127</td>\n",
              "      <td>-0.558954</td>\n",
              "      <td>1.503739</td>\n",
              "      <td>-1.073030</td>\n",
              "      <td>...</td>\n",
              "      <td>1.368482</td>\n",
              "      <td>-0.911968</td>\n",
              "      <td>-2.100238</td>\n",
              "      <td>-0.073337</td>\n",
              "      <td>-0.646944</td>\n",
              "      <td>-0.706550</td>\n",
              "      <td>-1.624288</td>\n",
              "      <td>-0.387415</td>\n",
              "      <td>0.937548</td>\n",
              "      <td>-0.919349</td>\n",
              "    </tr>\n",
              "    <tr>\n",
              "      <th>2</th>\n",
              "      <td>-1.696629</td>\n",
              "      <td>0.257429</td>\n",
              "      <td>-0.436794</td>\n",
              "      <td>3.455455</td>\n",
              "      <td>-1.191656</td>\n",
              "      <td>1.396831</td>\n",
              "      <td>1.649450</td>\n",
              "      <td>-2.059777</td>\n",
              "      <td>1.294943</td>\n",
              "      <td>-1.389119</td>\n",
              "      <td>...</td>\n",
              "      <td>0.363484</td>\n",
              "      <td>0.440210</td>\n",
              "      <td>-2.993112</td>\n",
              "      <td>-0.249982</td>\n",
              "      <td>0.001384</td>\n",
              "      <td>0.122782</td>\n",
              "      <td>1.054587</td>\n",
              "      <td>0.770736</td>\n",
              "      <td>-1.294388</td>\n",
              "      <td>-0.823439</td>\n",
              "    </tr>\n",
              "    <tr>\n",
              "      <th>3</th>\n",
              "      <td>0.932099</td>\n",
              "      <td>-1.593295</td>\n",
              "      <td>-0.334127</td>\n",
              "      <td>0.685190</td>\n",
              "      <td>0.269621</td>\n",
              "      <td>1.007221</td>\n",
              "      <td>1.233836</td>\n",
              "      <td>0.237993</td>\n",
              "      <td>2.078308</td>\n",
              "      <td>0.407337</td>\n",
              "      <td>...</td>\n",
              "      <td>1.087123</td>\n",
              "      <td>-0.112537</td>\n",
              "      <td>-3.350270</td>\n",
              "      <td>-0.846158</td>\n",
              "      <td>0.744967</td>\n",
              "      <td>0.439564</td>\n",
              "      <td>-0.690871</td>\n",
              "      <td>0.543678</td>\n",
              "      <td>-1.567913</td>\n",
              "      <td>0.196262</td>\n",
              "    </tr>\n",
              "    <tr>\n",
              "      <th>4</th>\n",
              "      <td>-1.768010</td>\n",
              "      <td>0.119449</td>\n",
              "      <td>0.540221</td>\n",
              "      <td>2.725170</td>\n",
              "      <td>-0.285790</td>\n",
              "      <td>1.467148</td>\n",
              "      <td>-0.317170</td>\n",
              "      <td>0.131942</td>\n",
              "      <td>0.732225</td>\n",
              "      <td>-2.162524</td>\n",
              "      <td>...</td>\n",
              "      <td>1.398393</td>\n",
              "      <td>-0.132943</td>\n",
              "      <td>-1.811507</td>\n",
              "      <td>0.497713</td>\n",
              "      <td>-0.577680</td>\n",
              "      <td>-1.125974</td>\n",
              "      <td>0.150025</td>\n",
              "      <td>-0.989360</td>\n",
              "      <td>2.509757</td>\n",
              "      <td>0.165997</td>\n",
              "    </tr>\n",
              "    <tr>\n",
              "      <th>...</th>\n",
              "      <td>...</td>\n",
              "      <td>...</td>\n",
              "      <td>...</td>\n",
              "      <td>...</td>\n",
              "      <td>...</td>\n",
              "      <td>...</td>\n",
              "      <td>...</td>\n",
              "      <td>...</td>\n",
              "      <td>...</td>\n",
              "      <td>...</td>\n",
              "      <td>...</td>\n",
              "      <td>...</td>\n",
              "      <td>...</td>\n",
              "      <td>...</td>\n",
              "      <td>...</td>\n",
              "      <td>...</td>\n",
              "      <td>...</td>\n",
              "      <td>...</td>\n",
              "      <td>...</td>\n",
              "      <td>...</td>\n",
              "      <td>...</td>\n",
              "    </tr>\n",
              "    <tr>\n",
              "      <th>28515</th>\n",
              "      <td>0.093076</td>\n",
              "      <td>1.607867</td>\n",
              "      <td>-0.201254</td>\n",
              "      <td>-0.017915</td>\n",
              "      <td>3.488325</td>\n",
              "      <td>-0.084209</td>\n",
              "      <td>-1.277312</td>\n",
              "      <td>0.247766</td>\n",
              "      <td>1.599102</td>\n",
              "      <td>0.786603</td>\n",
              "      <td>...</td>\n",
              "      <td>0.870184</td>\n",
              "      <td>-0.189773</td>\n",
              "      <td>-0.642649</td>\n",
              "      <td>1.728059</td>\n",
              "      <td>0.776254</td>\n",
              "      <td>-1.112233</td>\n",
              "      <td>-0.875752</td>\n",
              "      <td>1.217201</td>\n",
              "      <td>0.705901</td>\n",
              "      <td>0.498509</td>\n",
              "    </tr>\n",
              "    <tr>\n",
              "      <th>28516</th>\n",
              "      <td>1.663375</td>\n",
              "      <td>-0.711944</td>\n",
              "      <td>0.061733</td>\n",
              "      <td>-0.060080</td>\n",
              "      <td>0.384315</td>\n",
              "      <td>-0.358914</td>\n",
              "      <td>1.009997</td>\n",
              "      <td>-2.121422</td>\n",
              "      <td>-0.189213</td>\n",
              "      <td>0.138299</td>\n",
              "      <td>...</td>\n",
              "      <td>0.884920</td>\n",
              "      <td>-0.563606</td>\n",
              "      <td>0.004032</td>\n",
              "      <td>1.218849</td>\n",
              "      <td>-0.162391</td>\n",
              "      <td>0.056092</td>\n",
              "      <td>-0.136669</td>\n",
              "      <td>-0.365558</td>\n",
              "      <td>1.144407</td>\n",
              "      <td>-0.433992</td>\n",
              "    </tr>\n",
              "    <tr>\n",
              "      <th>28517</th>\n",
              "      <td>1.371444</td>\n",
              "      <td>-0.016175</td>\n",
              "      <td>0.146018</td>\n",
              "      <td>0.348439</td>\n",
              "      <td>1.420678</td>\n",
              "      <td>0.295186</td>\n",
              "      <td>0.320466</td>\n",
              "      <td>-0.038330</td>\n",
              "      <td>0.285876</td>\n",
              "      <td>0.876290</td>\n",
              "      <td>...</td>\n",
              "      <td>0.412954</td>\n",
              "      <td>-0.219770</td>\n",
              "      <td>-0.461239</td>\n",
              "      <td>-1.311420</td>\n",
              "      <td>1.158437</td>\n",
              "      <td>-2.007156</td>\n",
              "      <td>1.070300</td>\n",
              "      <td>1.827668</td>\n",
              "      <td>-0.329699</td>\n",
              "      <td>-0.336336</td>\n",
              "    </tr>\n",
              "    <tr>\n",
              "      <th>28518</th>\n",
              "      <td>-0.776721</td>\n",
              "      <td>-0.005011</td>\n",
              "      <td>0.006696</td>\n",
              "      <td>-0.817254</td>\n",
              "      <td>1.184843</td>\n",
              "      <td>-0.796913</td>\n",
              "      <td>0.179448</td>\n",
              "      <td>-1.120960</td>\n",
              "      <td>0.272548</td>\n",
              "      <td>-0.995704</td>\n",
              "      <td>...</td>\n",
              "      <td>0.591453</td>\n",
              "      <td>0.445483</td>\n",
              "      <td>0.912035</td>\n",
              "      <td>0.320850</td>\n",
              "      <td>0.740111</td>\n",
              "      <td>-0.623250</td>\n",
              "      <td>0.172330</td>\n",
              "      <td>-0.197340</td>\n",
              "      <td>-1.414820</td>\n",
              "      <td>-0.166887</td>\n",
              "    </tr>\n",
              "    <tr>\n",
              "      <th>28519</th>\n",
              "      <td>1.057490</td>\n",
              "      <td>-0.271512</td>\n",
              "      <td>0.594492</td>\n",
              "      <td>-0.589436</td>\n",
              "      <td>1.280568</td>\n",
              "      <td>-0.614149</td>\n",
              "      <td>0.800556</td>\n",
              "      <td>1.231810</td>\n",
              "      <td>-1.392186</td>\n",
              "      <td>2.146935</td>\n",
              "      <td>...</td>\n",
              "      <td>0.065703</td>\n",
              "      <td>-0.093213</td>\n",
              "      <td>-1.694447</td>\n",
              "      <td>-0.553324</td>\n",
              "      <td>1.324773</td>\n",
              "      <td>-1.164362</td>\n",
              "      <td>1.450697</td>\n",
              "      <td>1.649844</td>\n",
              "      <td>-0.078958</td>\n",
              "      <td>-1.675530</td>\n",
              "    </tr>\n",
              "  </tbody>\n",
              "</table>\n",
              "<p>28520 rows × 256 columns</p>\n",
              "</div>"
            ],
            "text/plain": [
              "            0         1         2         3         4         5         6    \\\n",
              "0     -1.719486  0.323086  1.226266  1.388683  0.664613 -0.308695 -0.812392   \n",
              "1     -1.497857 -0.390408  1.087442  3.184804 -0.932385  2.113584  0.386127   \n",
              "2     -1.696629  0.257429 -0.436794  3.455455 -1.191656  1.396831  1.649450   \n",
              "3      0.932099 -1.593295 -0.334127  0.685190  0.269621  1.007221  1.233836   \n",
              "4     -1.768010  0.119449  0.540221  2.725170 -0.285790  1.467148 -0.317170   \n",
              "...         ...       ...       ...       ...       ...       ...       ...   \n",
              "28515  0.093076  1.607867 -0.201254 -0.017915  3.488325 -0.084209 -1.277312   \n",
              "28516  1.663375 -0.711944  0.061733 -0.060080  0.384315 -0.358914  1.009997   \n",
              "28517  1.371444 -0.016175  0.146018  0.348439  1.420678  0.295186  0.320466   \n",
              "28518 -0.776721 -0.005011  0.006696 -0.817254  1.184843 -0.796913  0.179448   \n",
              "28519  1.057490 -0.271512  0.594492 -0.589436  1.280568 -0.614149  0.800556   \n",
              "\n",
              "            7         8         9    ...       246       247       248  \\\n",
              "0     -0.655816  0.179515  0.140254  ...  2.113138  1.527554 -0.982967   \n",
              "1     -0.558954  1.503739 -1.073030  ...  1.368482 -0.911968 -2.100238   \n",
              "2     -2.059777  1.294943 -1.389119  ...  0.363484  0.440210 -2.993112   \n",
              "3      0.237993  2.078308  0.407337  ...  1.087123 -0.112537 -3.350270   \n",
              "4      0.131942  0.732225 -2.162524  ...  1.398393 -0.132943 -1.811507   \n",
              "...         ...       ...       ...  ...       ...       ...       ...   \n",
              "28515  0.247766  1.599102  0.786603  ...  0.870184 -0.189773 -0.642649   \n",
              "28516 -2.121422 -0.189213  0.138299  ...  0.884920 -0.563606  0.004032   \n",
              "28517 -0.038330  0.285876  0.876290  ...  0.412954 -0.219770 -0.461239   \n",
              "28518 -1.120960  0.272548 -0.995704  ...  0.591453  0.445483  0.912035   \n",
              "28519  1.231810 -1.392186  2.146935  ...  0.065703 -0.093213 -1.694447   \n",
              "\n",
              "            249       250       251       252       253       254       255  \n",
              "0      0.855748 -0.670494 -1.234800 -1.324892 -0.017108 -1.003996  0.938640  \n",
              "1     -0.073337 -0.646944 -0.706550 -1.624288 -0.387415  0.937548 -0.919349  \n",
              "2     -0.249982  0.001384  0.122782  1.054587  0.770736 -1.294388 -0.823439  \n",
              "3     -0.846158  0.744967  0.439564 -0.690871  0.543678 -1.567913  0.196262  \n",
              "4      0.497713 -0.577680 -1.125974  0.150025 -0.989360  2.509757  0.165997  \n",
              "...         ...       ...       ...       ...       ...       ...       ...  \n",
              "28515  1.728059  0.776254 -1.112233 -0.875752  1.217201  0.705901  0.498509  \n",
              "28516  1.218849 -0.162391  0.056092 -0.136669 -0.365558  1.144407 -0.433992  \n",
              "28517 -1.311420  1.158437 -2.007156  1.070300  1.827668 -0.329699 -0.336336  \n",
              "28518  0.320850  0.740111 -0.623250  0.172330 -0.197340 -1.414820 -0.166887  \n",
              "28519 -0.553324  1.324773 -1.164362  1.450697  1.649844 -0.078958 -1.675530  \n",
              "\n",
              "[28520 rows x 256 columns]"
            ]
          },
          "execution_count": 5,
          "metadata": {},
          "output_type": "execute_result"
        }
      ],
      "source": [
        "X_train['label_1']"
      ]
    },
    {
      "cell_type": "markdown",
      "metadata": {
        "id": "NR2Yt5oHooJi"
      },
      "source": [
        "Feature Selection using K Best\n",
        "\n"
      ]
    },
    {
      "cell_type": "code",
      "execution_count": 5,
      "metadata": {
        "id": "wMAV_69ry_ib"
      },
      "outputs": [],
      "source": [
        "new_features = 95\n",
        "selector = SelectKBest(f_classif, k=new_features)"
      ]
    },
    {
      "cell_type": "code",
      "execution_count": 6,
      "metadata": {
        "id": "5qwtClQcqEms"
      },
      "outputs": [],
      "source": [
        "X_train_selected = {}\n",
        "X_valid_selected = {}\n",
        "X_test_selected = {}\n",
        "for label in X_train:\n",
        "  X_train_selected[label] = pd.DataFrame(selector.fit_transform(X_train[label], y_train[label]))\n",
        "  X_valid_selected[label] = pd.DataFrame(selector.transform(X_valid[label]))\n",
        "  X_test_selected[label] = pd.DataFrame(selector.transform(X_test[label]))"
      ]
    },
    {
      "cell_type": "markdown",
      "metadata": {},
      "source": [
        "Check selected features"
      ]
    },
    {
      "cell_type": "code",
      "execution_count": 8,
      "metadata": {
        "colab": {
          "base_uri": "https://localhost:8080/"
        },
        "id": "4KZMCbRM2YPV",
        "outputId": "0638b162-2040-4267-9ad9-965b154a50f6"
      },
      "outputs": [
        {
          "data": {
            "text/plain": [
              "(28520, 95)"
            ]
          },
          "execution_count": 8,
          "metadata": {},
          "output_type": "execute_result"
        }
      ],
      "source": [
        "X_train_selected['label_1'].shape"
      ]
    },
    {
      "cell_type": "markdown",
      "metadata": {
        "id": "N2hdBK4FBfII"
      },
      "source": [
        "Suppport Vector Machine Model"
      ]
    },
    {
      "cell_type": "code",
      "execution_count": 7,
      "metadata": {},
      "outputs": [],
      "source": [
        "def support_vector_machine(L, training_data, validation_data, training_labels, validation_labels):\n",
        "    if L == 'label_2': #for Age\n",
        "        linear_regressor = LinearRegression()\n",
        "        linear_regressor.fit(training_data[L], training_labels[L])\n",
        "        predictions = linear_regressor.predict(validation_data[L])\n",
        "        print(f\"+ Mean Squared Error for {L} = \", mean_squared_error(validation_labels[L], predictions))\n",
        "    else:\n",
        "        svm_classifier = SVC(kernel='linear')\n",
        "        svm_classifier.fit(training_data[L], training_labels[L])\n",
        "        predictions = svm_classifier.predict(validation_data[L])\n",
        "        print(f\"+ Accuracy Score for {L} = \", accuracy_score(validation_labels[L], predictions))\n"
      ]
    },
    {
      "cell_type": "markdown",
      "metadata": {
        "id": "hrpPGhjn5IbX"
      },
      "source": [
        "Testing original data using evaluation metrices"
      ]
    },
    {
      "cell_type": "code",
      "execution_count": 8,
      "metadata": {},
      "outputs": [
        {
          "name": "stdout",
          "output_type": "stream",
          "text": [
            "+ Accuracy Score for label_1 =  0.9906666666666667\n",
            "+ Mean Squared Error for label_2 =  23.82559204040575\n",
            "+ Accuracy Score for label_3 =  0.9986666666666667\n",
            "+ Accuracy Score for label_4 =  0.9626666666666667\n"
          ]
        }
      ],
      "source": [
        "support_vector_machine('label_1', X_train, X_valid, y_train, y_valid)\n",
        "support_vector_machine('label_2', X_train, X_valid, y_train, y_valid)\n",
        "support_vector_machine('label_3', X_train, X_valid, y_train, y_valid)\n",
        "support_vector_machine('label_4', X_train, X_valid, y_train, y_valid)"
      ]
    },
    {
      "cell_type": "code",
      "execution_count": 11,
      "metadata": {
        "colab": {
          "base_uri": "https://localhost:8080/"
        },
        "id": "3MNJ8mFBD0wZ",
        "outputId": "6762d8f6-1b02-4c3f-bfca-4617e98ba314"
      },
      "outputs": [
        {
          "data": {
            "text/plain": [
              "(28520, 256)"
            ]
          },
          "execution_count": 11,
          "metadata": {},
          "output_type": "execute_result"
        }
      ],
      "source": [
        "X_train['label_1'].shape"
      ]
    },
    {
      "cell_type": "code",
      "execution_count": 12,
      "metadata": {
        "colab": {
          "base_uri": "https://localhost:8080/"
        },
        "id": "82StmpszED-9",
        "outputId": "4da50449-2e66-4a08-9cf1-2fee8e00517c"
      },
      "outputs": [
        {
          "data": {
            "text/plain": [
              "(28520, 95)"
            ]
          },
          "execution_count": 12,
          "metadata": {},
          "output_type": "execute_result"
        }
      ],
      "source": [
        "X_train_selected['label_1'].shape"
      ]
    },
    {
      "cell_type": "markdown",
      "metadata": {
        "id": "7SmnGjOeBaNS"
      },
      "source": [
        "Evaluation after feature selection"
      ]
    },
    {
      "cell_type": "code",
      "execution_count": 9,
      "metadata": {
        "id": "YF4Oa_eRDVYa"
      },
      "outputs": [
        {
          "name": "stdout",
          "output_type": "stream",
          "text": [
            "+ Accuracy Score for label_1 =  0.9746666666666667\n",
            "+ Mean Squared Error for label_2 =  28.883154091511987\n",
            "+ Accuracy Score for label_3 =  0.9986666666666667\n",
            "+ Accuracy Score for label_4 =  0.9133333333333333\n"
          ]
        }
      ],
      "source": [
        "support_vector_machine('label_1', X_train_selected, X_valid_selected, y_train, y_valid)\n",
        "support_vector_machine('label_2', X_train_selected, X_valid_selected, y_train, y_valid)\n",
        "support_vector_machine('label_3', X_train_selected, X_valid_selected, y_train, y_valid)\n",
        "support_vector_machine('label_4', X_train_selected, X_valid_selected, y_train, y_valid)"
      ]
    },
    {
      "cell_type": "markdown",
      "metadata": {
        "id": "plnhjUvKfTFQ"
      },
      "source": [
        "Predict Labels"
      ]
    },
    {
      "cell_type": "code",
      "execution_count": 10,
      "metadata": {},
      "outputs": [],
      "source": [
        "def svm_test(L, training_data, validation_data, training_labels, validation_labels):\n",
        "    if L == 'label_2':\n",
        "        svm_regressor = LinearRegression()\n",
        "        svm_regressor.fit(training_data[L], training_labels[L])\n",
        "        predictions = svm_regressor.predict(validation_data[L])\n",
        "    else:\n",
        "        svm_classifier = SVC(kernel='linear')\n",
        "        svm_classifier.fit(training_data[L], training_labels[L])\n",
        "        predictions = svm_classifier.predict(validation_data[L])\n",
        "    return pd.DataFrame(predictions)"
      ]
    },
    {
      "cell_type": "code",
      "execution_count": 11,
      "metadata": {
        "id": "nvBUXG-RgiFC"
      },
      "outputs": [],
      "source": [
        "y_pred_l1 = svm_test('label_1', X_train, X_test, y_train, y_valid)\n",
        "y_pred_l2 = svm_test('label_2', X_train, X_test, y_train, y_valid)\n",
        "y_pred_l3 = svm_test('label_3', X_train, X_test, y_train, y_valid)\n",
        "y_pred_l4 = svm_test('label_4', X_train, X_test, y_train, y_valid)"
      ]
    },
    {
      "cell_type": "code",
      "execution_count": 16,
      "metadata": {},
      "outputs": [
        {
          "data": {
            "text/html": [
              "<div>\n",
              "<style scoped>\n",
              "    .dataframe tbody tr th:only-of-type {\n",
              "        vertical-align: middle;\n",
              "    }\n",
              "\n",
              "    .dataframe tbody tr th {\n",
              "        vertical-align: top;\n",
              "    }\n",
              "\n",
              "    .dataframe thead th {\n",
              "        text-align: right;\n",
              "    }\n",
              "</style>\n",
              "<table border=\"1\" class=\"dataframe\">\n",
              "  <thead>\n",
              "    <tr style=\"text-align: right;\">\n",
              "      <th></th>\n",
              "      <th>0</th>\n",
              "    </tr>\n",
              "  </thead>\n",
              "  <tbody>\n",
              "    <tr>\n",
              "      <th>0</th>\n",
              "      <td>45</td>\n",
              "    </tr>\n",
              "    <tr>\n",
              "      <th>1</th>\n",
              "      <td>45</td>\n",
              "    </tr>\n",
              "    <tr>\n",
              "      <th>2</th>\n",
              "      <td>45</td>\n",
              "    </tr>\n",
              "    <tr>\n",
              "      <th>3</th>\n",
              "      <td>45</td>\n",
              "    </tr>\n",
              "    <tr>\n",
              "      <th>4</th>\n",
              "      <td>45</td>\n",
              "    </tr>\n",
              "    <tr>\n",
              "      <th>...</th>\n",
              "      <td>...</td>\n",
              "    </tr>\n",
              "    <tr>\n",
              "      <th>745</th>\n",
              "      <td>39</td>\n",
              "    </tr>\n",
              "    <tr>\n",
              "      <th>746</th>\n",
              "      <td>39</td>\n",
              "    </tr>\n",
              "    <tr>\n",
              "      <th>747</th>\n",
              "      <td>39</td>\n",
              "    </tr>\n",
              "    <tr>\n",
              "      <th>748</th>\n",
              "      <td>39</td>\n",
              "    </tr>\n",
              "    <tr>\n",
              "      <th>749</th>\n",
              "      <td>39</td>\n",
              "    </tr>\n",
              "  </tbody>\n",
              "</table>\n",
              "<p>750 rows × 1 columns</p>\n",
              "</div>"
            ],
            "text/plain": [
              "      0\n",
              "0    45\n",
              "1    45\n",
              "2    45\n",
              "3    45\n",
              "4    45\n",
              "..   ..\n",
              "745  39\n",
              "746  39\n",
              "747  39\n",
              "748  39\n",
              "749  39\n",
              "\n",
              "[750 rows x 1 columns]"
            ]
          },
          "execution_count": 16,
          "metadata": {},
          "output_type": "execute_result"
        }
      ],
      "source": [
        "y_pred_l1"
      ]
    },
    {
      "cell_type": "code",
      "execution_count": null,
      "metadata": {
        "id": "giCgg56VrDwC"
      },
      "outputs": [],
      "source": [
        "y_pred_selected_l1 = svm_test('label_1', X_train_selected, X_test_selected, y_train, y_valid)\n",
        "y_pred_selected_l2 = svm_test('label_2', X_train_selected, X_test_selected, y_train, y_valid)\n",
        "y_pred_selected_l3 = svm_test('label_3', X_train_selected, X_test_selected, y_train, y_valid)\n",
        "y_pred_selected_l4 = svm_test('label_4', X_train_selected, X_test_selected, y_train, y_valid)"
      ]
    },
    {
      "cell_type": "code",
      "execution_count": 18,
      "metadata": {
        "id": "aRgAAcoqrUJB"
      },
      "outputs": [
        {
          "data": {
            "text/html": [
              "<div>\n",
              "<style scoped>\n",
              "    .dataframe tbody tr th:only-of-type {\n",
              "        vertical-align: middle;\n",
              "    }\n",
              "\n",
              "    .dataframe tbody tr th {\n",
              "        vertical-align: top;\n",
              "    }\n",
              "\n",
              "    .dataframe thead th {\n",
              "        text-align: right;\n",
              "    }\n",
              "</style>\n",
              "<table border=\"1\" class=\"dataframe\">\n",
              "  <thead>\n",
              "    <tr style=\"text-align: right;\">\n",
              "      <th></th>\n",
              "      <th>0</th>\n",
              "    </tr>\n",
              "  </thead>\n",
              "  <tbody>\n",
              "    <tr>\n",
              "      <th>0</th>\n",
              "      <td>45</td>\n",
              "    </tr>\n",
              "    <tr>\n",
              "      <th>1</th>\n",
              "      <td>45</td>\n",
              "    </tr>\n",
              "    <tr>\n",
              "      <th>2</th>\n",
              "      <td>45</td>\n",
              "    </tr>\n",
              "    <tr>\n",
              "      <th>3</th>\n",
              "      <td>45</td>\n",
              "    </tr>\n",
              "    <tr>\n",
              "      <th>4</th>\n",
              "      <td>45</td>\n",
              "    </tr>\n",
              "    <tr>\n",
              "      <th>...</th>\n",
              "      <td>...</td>\n",
              "    </tr>\n",
              "    <tr>\n",
              "      <th>745</th>\n",
              "      <td>39</td>\n",
              "    </tr>\n",
              "    <tr>\n",
              "      <th>746</th>\n",
              "      <td>39</td>\n",
              "    </tr>\n",
              "    <tr>\n",
              "      <th>747</th>\n",
              "      <td>39</td>\n",
              "    </tr>\n",
              "    <tr>\n",
              "      <th>748</th>\n",
              "      <td>39</td>\n",
              "    </tr>\n",
              "    <tr>\n",
              "      <th>749</th>\n",
              "      <td>39</td>\n",
              "    </tr>\n",
              "  </tbody>\n",
              "</table>\n",
              "<p>750 rows × 1 columns</p>\n",
              "</div>"
            ],
            "text/plain": [
              "      0\n",
              "0    45\n",
              "1    45\n",
              "2    45\n",
              "3    45\n",
              "4    45\n",
              "..   ..\n",
              "745  39\n",
              "746  39\n",
              "747  39\n",
              "748  39\n",
              "749  39\n",
              "\n",
              "[750 rows x 1 columns]"
            ]
          },
          "execution_count": 18,
          "metadata": {},
          "output_type": "execute_result"
        }
      ],
      "source": [
        "y_pred_selected_l1"
      ]
    },
    {
      "cell_type": "markdown",
      "metadata": {
        "id": "ZOwbhF7blVqB"
      },
      "source": [
        "CSV file creation"
      ]
    },
    {
      "cell_type": "code",
      "execution_count": null,
      "metadata": {
        "id": "a8LUyFAGkb23"
      },
      "outputs": [],
      "source": [
        "# Concatenate the DataFrames horizontally\n",
        "new_features_str = str(new_features)\n",
        "new_features_df = pd.DataFrame([new_features_str] * len(y_pred_l1))"
      ]
    },
    {
      "cell_type": "code",
      "execution_count": null,
      "metadata": {
        "id": "7cKUcglJTWaM"
      },
      "outputs": [],
      "source": [
        "cn = {i: f'new_feature_{i+1}' for i in range(new_features)}"
      ]
    },
    {
      "cell_type": "code",
      "execution_count": 132,
      "metadata": {
        "id": "_NmSBkAUV0Uh"
      },
      "outputs": [],
      "source": [
        "ncn = [f'new_feature_{i}' for i in range(new_features+1, 257)]\n",
        "empty_columns = pd.DataFrame(columns=ncn)"
      ]
    },
    {
      "cell_type": "code",
      "execution_count": null,
      "metadata": {},
      "outputs": [],
      "source": [
        "labels = ['label_1', 'label_2', 'label_3', 'label_4']\n",
        "\n",
        "for label in labels:\n",
        "    # Concatenate dataframes\n",
        "    result_df = pd.concat([globals()[f'y_pred_l{label[-1]}'], globals()[f'y_pred_selected_l{label[-1]}'], new_features_df, pd.DataFrame(X_test_selected[label])], axis=1)\n",
        "    \n",
        "    # Define column names\n",
        "    column_names = ['Predicted labels before feature engineering', 'Predicted labels after feature engineering', 'No of new features'] + list(pd.DataFrame(X_test_selected[label]))\n",
        "    result_df.columns = column_names\n",
        "    \n",
        "    # Define the output file name\n",
        "    output_file = f\"ML/190705B_{label}.csv\"\n",
        "    \n",
        "    # Save the dataframe to a CSV file\n",
        "    result_df.to_csv(output_file, index=False)\n"
      ]
    }
  ],
  "metadata": {
    "colab": {
      "provenance": []
    },
    "kernelspec": {
      "display_name": "Python 3",
      "name": "python3"
    },
    "language_info": {
      "codemirror_mode": {
        "name": "ipython",
        "version": 3
      },
      "file_extension": ".py",
      "mimetype": "text/x-python",
      "name": "python",
      "nbconvert_exporter": "python",
      "pygments_lexer": "ipython3",
      "version": "3.8.0"
    }
  },
  "nbformat": 4,
  "nbformat_minor": 0
}
